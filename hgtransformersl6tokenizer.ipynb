{
 "cells": [
  {
   "cell_type": "code",
   "execution_count": 1,
   "id": "6ed34d56",
   "metadata": {
    "_cell_guid": "b1076dfc-b9ad-4769-8c92-a6c4dae69d19",
    "_uuid": "8f2839f25d086af736a60e9eeb907d3b93b6e0e5",
    "execution": {
     "iopub.execute_input": "2023-02-06T15:21:10.075473Z",
     "iopub.status.busy": "2023-02-06T15:21:10.074479Z",
     "iopub.status.idle": "2023-02-06T15:21:10.091595Z",
     "shell.execute_reply": "2023-02-06T15:21:10.090515Z"
    },
    "papermill": {
     "duration": 0.030186,
     "end_time": "2023-02-06T15:21:10.094443",
     "exception": false,
     "start_time": "2023-02-06T15:21:10.064257",
     "status": "completed"
    },
    "tags": []
   },
   "outputs": [],
   "source": [
    "# This Python 3 environment comes with many helpful analytics libraries installed\n",
    "# It is defined by the kaggle/python Docker image: https://github.com/kaggle/docker-python\n",
    "# For example, here's several helpful packages to load\n",
    "\n",
    "import numpy as np # linear algebra\n",
    "import pandas as pd # data processing, CSV file I/O (e.g. pd.read_csv)\n",
    "\n",
    "# Input data files are available in the read-only \"../input/\" directory\n",
    "# For example, running this (by clicking run or pressing Shift+Enter) will list all files under the input directory\n",
    "\n",
    "import os\n",
    "for dirname, _, filenames in os.walk('/kaggle/input'):\n",
    "    for filename in filenames:\n",
    "        print(os.path.join(dirname, filename))\n",
    "\n",
    "# You can write up to 20GB to the current directory (/kaggle/working/) that gets preserved as output when you create a version using \"Save & Run All\" \n",
    "# You can also write temporary files to /kaggle/temp/, but they won't be saved outside of the current session"
   ]
  },
  {
   "cell_type": "code",
   "execution_count": 2,
   "id": "cb3941c8",
   "metadata": {
    "execution": {
     "iopub.execute_input": "2023-02-06T15:21:10.110403Z",
     "iopub.status.busy": "2023-02-06T15:21:10.109981Z",
     "iopub.status.idle": "2023-02-06T15:23:24.542050Z",
     "shell.execute_reply": "2023-02-06T15:23:24.541031Z"
    },
    "papermill": {
     "duration": 134.443183,
     "end_time": "2023-02-06T15:23:24.544897",
     "exception": false,
     "start_time": "2023-02-06T15:21:10.101714",
     "status": "completed"
    },
    "tags": []
   },
   "outputs": [
    {
     "data": {
      "application/vnd.jupyter.widget-view+json": {
       "model_id": "7ee95d68949444a99554e7bc69eb79fb",
       "version_major": 2,
       "version_minor": 0
      },
      "text/plain": [
       "Downloading:   0%|          | 0.00/60.0 [00:00<?, ?B/s]"
      ]
     },
     "metadata": {},
     "output_type": "display_data"
    },
    {
     "data": {
      "application/vnd.jupyter.widget-view+json": {
       "model_id": "f2f56273a2c04a1f80fd247d5de66773",
       "version_major": 2,
       "version_minor": 0
      },
      "text/plain": [
       "Downloading:   0%|          | 0.00/998 [00:00<?, ?B/s]"
      ]
     },
     "metadata": {},
     "output_type": "display_data"
    },
    {
     "data": {
      "application/vnd.jupyter.widget-view+json": {
       "model_id": "e7f86ada6d3c41ee8a52b804aa1a0a1e",
       "version_major": 2,
       "version_minor": 0
      },
      "text/plain": [
       "Downloading:   0%|          | 0.00/208k [00:00<?, ?B/s]"
      ]
     },
     "metadata": {},
     "output_type": "display_data"
    },
    {
     "data": {
      "application/vnd.jupyter.widget-view+json": {
       "model_id": "845600eebf244299be0e7a40b6ea1cea",
       "version_major": 2,
       "version_minor": 0
      },
      "text/plain": [
       "Downloading:   0%|          | 0.00/1.24G [00:00<?, ?B/s]"
      ]
     },
     "metadata": {},
     "output_type": "display_data"
    }
   ],
   "source": [
    "from transformers import AutoTokenizer, AutoModelForTokenClassification\n",
    "\n",
    "model_checkpoint = \"dbmdz/bert-large-cased-finetuned-conll03-english\"\n",
    "tokenizer = AutoTokenizer.from_pretrained(model_checkpoint)\n",
    "model = AutoModelForTokenClassification.from_pretrained(model_checkpoint)"
   ]
  },
  {
   "cell_type": "code",
   "execution_count": 3,
   "id": "8d6c87fd",
   "metadata": {
    "execution": {
     "iopub.execute_input": "2023-02-06T15:23:24.562917Z",
     "iopub.status.busy": "2023-02-06T15:23:24.562494Z",
     "iopub.status.idle": "2023-02-06T15:23:25.033294Z",
     "shell.execute_reply": "2023-02-06T15:23:25.032079Z"
    },
    "papermill": {
     "duration": 0.482762,
     "end_time": "2023-02-06T15:23:25.036172",
     "exception": false,
     "start_time": "2023-02-06T15:23:24.553410",
     "status": "completed"
    },
    "tags": []
   },
   "outputs": [],
   "source": [
    "example=\"My name is Neda and I work at HuggingFace in Lisbon\"\n",
    "inputs=tokenizer(example,return_tensors=\"pt\")\n",
    "outputs=model(**inputs)"
   ]
  },
  {
   "cell_type": "code",
   "execution_count": 4,
   "id": "33cd6636",
   "metadata": {
    "execution": {
     "iopub.execute_input": "2023-02-06T15:23:25.054930Z",
     "iopub.status.busy": "2023-02-06T15:23:25.054524Z",
     "iopub.status.idle": "2023-02-06T15:23:25.060779Z",
     "shell.execute_reply": "2023-02-06T15:23:25.059501Z"
    },
    "papermill": {
     "duration": 0.019939,
     "end_time": "2023-02-06T15:23:25.063937",
     "exception": false,
     "start_time": "2023-02-06T15:23:25.043998",
     "status": "completed"
    },
    "tags": []
   },
   "outputs": [
    {
     "name": "stdout",
     "output_type": "stream",
     "text": [
      "torch.Size([1, 17])\n",
      "torch.Size([1, 17, 9])\n"
     ]
    }
   ],
   "source": [
    "print(inputs[\"input_ids\"].shape)\n",
    "print(outputs.logits.shape)"
   ]
  },
  {
   "cell_type": "code",
   "execution_count": 5,
   "id": "48a40887",
   "metadata": {
    "execution": {
     "iopub.execute_input": "2023-02-06T15:23:25.082002Z",
     "iopub.status.busy": "2023-02-06T15:23:25.081614Z",
     "iopub.status.idle": "2023-02-06T15:23:25.086124Z",
     "shell.execute_reply": "2023-02-06T15:23:25.085087Z"
    },
    "papermill": {
     "duration": 0.015989,
     "end_time": "2023-02-06T15:23:25.088388",
     "exception": false,
     "start_time": "2023-02-06T15:23:25.072399",
     "status": "completed"
    },
    "tags": []
   },
   "outputs": [],
   "source": [
    "#outputs.logits[0]"
   ]
  },
  {
   "cell_type": "code",
   "execution_count": 6,
   "id": "782ff3bf",
   "metadata": {
    "execution": {
     "iopub.execute_input": "2023-02-06T15:23:25.105939Z",
     "iopub.status.busy": "2023-02-06T15:23:25.104823Z",
     "iopub.status.idle": "2023-02-06T15:23:25.114786Z",
     "shell.execute_reply": "2023-02-06T15:23:25.113847Z"
    },
    "papermill": {
     "duration": 0.021029,
     "end_time": "2023-02-06T15:23:25.117035",
     "exception": false,
     "start_time": "2023-02-06T15:23:25.096006",
     "status": "completed"
    },
    "tags": []
   },
   "outputs": [],
   "source": [
    "import torch\n",
    "probablities=torch.nn.functional.softmax(outputs.logits,dim=-1)[0].tolist()\n",
    "\n",
    "predictions = outputs.logits.argmax(dim=-1)[0].tolist()"
   ]
  },
  {
   "cell_type": "code",
   "execution_count": 7,
   "id": "5c4d779a",
   "metadata": {
    "execution": {
     "iopub.execute_input": "2023-02-06T15:23:25.134313Z",
     "iopub.status.busy": "2023-02-06T15:23:25.133602Z",
     "iopub.status.idle": "2023-02-06T15:23:25.139257Z",
     "shell.execute_reply": "2023-02-06T15:23:25.138270Z"
    },
    "papermill": {
     "duration": 0.016942,
     "end_time": "2023-02-06T15:23:25.141581",
     "exception": false,
     "start_time": "2023-02-06T15:23:25.124639",
     "status": "completed"
    },
    "tags": []
   },
   "outputs": [
    {
     "name": "stdout",
     "output_type": "stream",
     "text": [
      "[0, 0, 0, 0, 4, 4, 0, 0, 0, 0, 6, 6, 6, 6, 0, 8, 0]\n"
     ]
    }
   ],
   "source": [
    "#print(probablities)\n",
    "print(predictions)"
   ]
  },
  {
   "cell_type": "code",
   "execution_count": 8,
   "id": "2b7439ca",
   "metadata": {
    "execution": {
     "iopub.execute_input": "2023-02-06T15:23:25.158568Z",
     "iopub.status.busy": "2023-02-06T15:23:25.157837Z",
     "iopub.status.idle": "2023-02-06T15:23:25.166603Z",
     "shell.execute_reply": "2023-02-06T15:23:25.165547Z"
    },
    "papermill": {
     "duration": 0.019802,
     "end_time": "2023-02-06T15:23:25.168997",
     "exception": false,
     "start_time": "2023-02-06T15:23:25.149195",
     "status": "completed"
    },
    "tags": []
   },
   "outputs": [
    {
     "data": {
      "text/plain": [
       "'O'"
      ]
     },
     "execution_count": 8,
     "metadata": {},
     "output_type": "execute_result"
    }
   ],
   "source": [
    "model.config.id2label[0]\n"
   ]
  },
  {
   "cell_type": "code",
   "execution_count": 9,
   "id": "1aa7da87",
   "metadata": {
    "execution": {
     "iopub.execute_input": "2023-02-06T15:23:25.186473Z",
     "iopub.status.busy": "2023-02-06T15:23:25.185682Z",
     "iopub.status.idle": "2023-02-06T15:23:25.190878Z",
     "shell.execute_reply": "2023-02-06T15:23:25.189673Z"
    },
    "papermill": {
     "duration": 0.01633,
     "end_time": "2023-02-06T15:23:25.193157",
     "exception": false,
     "start_time": "2023-02-06T15:23:25.176827",
     "status": "completed"
    },
    "tags": []
   },
   "outputs": [],
   "source": [
    "results=[]\n",
    "tokens=inputs.tokens()"
   ]
  },
  {
   "cell_type": "code",
   "execution_count": 10,
   "id": "a506db45",
   "metadata": {
    "execution": {
     "iopub.execute_input": "2023-02-06T15:23:25.210920Z",
     "iopub.status.busy": "2023-02-06T15:23:25.210290Z",
     "iopub.status.idle": "2023-02-06T15:23:25.215829Z",
     "shell.execute_reply": "2023-02-06T15:23:25.215105Z"
    },
    "papermill": {
     "duration": 0.01668,
     "end_time": "2023-02-06T15:23:25.217822",
     "exception": false,
     "start_time": "2023-02-06T15:23:25.201142",
     "status": "completed"
    },
    "tags": []
   },
   "outputs": [
    {
     "data": {
      "text/plain": [
       "[0, 0, 0, 0, 4, 4, 0, 0, 0, 0, 6, 6, 6, 6, 0, 8, 0]"
      ]
     },
     "execution_count": 10,
     "metadata": {},
     "output_type": "execute_result"
    }
   ],
   "source": [
    "predictions\n"
   ]
  },
  {
   "cell_type": "code",
   "execution_count": 11,
   "id": "3cc0c017",
   "metadata": {
    "execution": {
     "iopub.execute_input": "2023-02-06T15:23:25.235477Z",
     "iopub.status.busy": "2023-02-06T15:23:25.234788Z",
     "iopub.status.idle": "2023-02-06T15:23:25.241083Z",
     "shell.execute_reply": "2023-02-06T15:23:25.240177Z"
    },
    "papermill": {
     "duration": 0.017652,
     "end_time": "2023-02-06T15:23:25.243207",
     "exception": false,
     "start_time": "2023-02-06T15:23:25.225555",
     "status": "completed"
    },
    "tags": []
   },
   "outputs": [
    {
     "data": {
      "text/plain": [
       "17"
      ]
     },
     "execution_count": 11,
     "metadata": {},
     "output_type": "execute_result"
    }
   ],
   "source": [
    "len(predictions)"
   ]
  },
  {
   "cell_type": "code",
   "execution_count": 12,
   "id": "cd3a4412",
   "metadata": {
    "execution": {
     "iopub.execute_input": "2023-02-06T15:23:25.261446Z",
     "iopub.status.busy": "2023-02-06T15:23:25.260246Z",
     "iopub.status.idle": "2023-02-06T15:23:25.267459Z",
     "shell.execute_reply": "2023-02-06T15:23:25.266443Z"
    },
    "papermill": {
     "duration": 0.018486,
     "end_time": "2023-02-06T15:23:25.269670",
     "exception": false,
     "start_time": "2023-02-06T15:23:25.251184",
     "status": "completed"
    },
    "tags": []
   },
   "outputs": [
    {
     "data": {
      "text/plain": [
       "['[CLS]',\n",
       " 'My',\n",
       " 'name',\n",
       " 'is',\n",
       " 'Ned',\n",
       " '##a',\n",
       " 'and',\n",
       " 'I',\n",
       " 'work',\n",
       " 'at',\n",
       " 'Hu',\n",
       " '##gging',\n",
       " '##F',\n",
       " '##ace',\n",
       " 'in',\n",
       " 'Lisbon',\n",
       " '[SEP]']"
      ]
     },
     "execution_count": 12,
     "metadata": {},
     "output_type": "execute_result"
    }
   ],
   "source": [
    "tokens"
   ]
  },
  {
   "cell_type": "code",
   "execution_count": 13,
   "id": "ffa40c48",
   "metadata": {
    "execution": {
     "iopub.execute_input": "2023-02-06T15:23:25.287412Z",
     "iopub.status.busy": "2023-02-06T15:23:25.286995Z",
     "iopub.status.idle": "2023-02-06T15:23:25.295635Z",
     "shell.execute_reply": "2023-02-06T15:23:25.294594Z"
    },
    "papermill": {
     "duration": 0.02023,
     "end_time": "2023-02-06T15:23:25.297788",
     "exception": false,
     "start_time": "2023-02-06T15:23:25.277558",
     "status": "completed"
    },
    "tags": []
   },
   "outputs": [
    {
     "data": {
      "text/plain": [
       "[[0.9995946288108826,\n",
       "  1.1904368875548244e-05,\n",
       "  2.2082498617237434e-05,\n",
       "  1.2704006621788722e-05,\n",
       "  3.333123822812922e-05,\n",
       "  1.8673663362278603e-05,\n",
       "  0.00011463042028481141,\n",
       "  1.3042336831858847e-05,\n",
       "  0.00017897906946018338],\n",
       " [0.999697208404541,\n",
       "  8.016510037123226e-06,\n",
       "  2.2806332708569244e-05,\n",
       "  4.8654546844772995e-06,\n",
       "  9.687086276244372e-05,\n",
       "  1.1681508112815209e-05,\n",
       "  9.455468534724787e-05,\n",
       "  1.0597861546557397e-05,\n",
       "  5.3463358199223876e-05],\n",
       " [0.9998413324356079,\n",
       "  4.965365860698512e-06,\n",
       "  1.7453236068831757e-05,\n",
       "  3.0970370517025003e-06,\n",
       "  3.901646414306015e-05,\n",
       "  5.78072695134324e-06,\n",
       "  3.784393993555568e-05,\n",
       "  7.183261459431378e-06,\n",
       "  4.3410145735833794e-05],\n",
       " [0.9999212026596069,\n",
       "  3.1805802791495807e-06,\n",
       "  7.846408152545337e-06,\n",
       "  2.24450104724383e-06,\n",
       "  1.5077702300914098e-05,\n",
       "  4.748419996758457e-06,\n",
       "  2.48843316512648e-05,\n",
       "  4.913389147986891e-06,\n",
       "  1.584161327627953e-05],\n",
       " [0.0008780207135714591,\n",
       "  6.208219565451145e-05,\n",
       "  0.00024273501185234636,\n",
       "  3.229597132303752e-05,\n",
       "  0.9970694184303284,\n",
       "  7.186546281445771e-05,\n",
       "  0.0009093080880120397,\n",
       "  5.936813977314159e-05,\n",
       "  0.0006749748717993498],\n",
       " [0.001049329643137753,\n",
       "  5.3815150749869645e-05,\n",
       "  0.00017044633568730205,\n",
       "  1.8582506527309306e-05,\n",
       "  0.9978504180908203,\n",
       "  3.8837046304252e-05,\n",
       "  0.00039028783794492483,\n",
       "  2.9227303457446396e-05,\n",
       "  0.0003991410485468805],\n",
       " [0.9998955726623535,\n",
       "  3.697833562910091e-06,\n",
       "  8.234541382989846e-06,\n",
       "  2.9942200399091234e-06,\n",
       "  1.2124868590035476e-05,\n",
       "  8.552301551389974e-06,\n",
       "  4.186178557574749e-05,\n",
       "  5.310042070050258e-06,\n",
       "  2.151734588551335e-05],\n",
       " [0.999845027923584,\n",
       "  6.331646545731928e-06,\n",
       "  1.195434288092656e-05,\n",
       "  3.211168404959608e-06,\n",
       "  4.649883703677915e-05,\n",
       "  8.739581062400248e-06,\n",
       "  4.6893841499695554e-05,\n",
       "  7.857169293856714e-06,\n",
       "  2.3621432774234563e-05],\n",
       " [0.9998759031295776,\n",
       "  4.0490103856427595e-06,\n",
       "  8.616390005045105e-06,\n",
       "  2.1494577140401816e-06,\n",
       "  2.1523448594962247e-05,\n",
       "  5.900991254748078e-06,\n",
       "  6.244490941753611e-05,\n",
       "  4.25620237365365e-06,\n",
       "  1.5075739611347672e-05],\n",
       " [0.9998193383216858,\n",
       "  4.998742952011526e-06,\n",
       "  1.1845477274619043e-05,\n",
       "  2.943947265521274e-06,\n",
       "  2.2510645067086443e-05,\n",
       "  8.51969889481552e-06,\n",
       "  0.00010506723629077896,\n",
       "  7.119004749256419e-06,\n",
       "  1.7598445992916822e-05],\n",
       " [0.0011007941793650389,\n",
       "  7.666553756280337e-06,\n",
       "  5.396855340222828e-05,\n",
       "  8.935670848586597e-06,\n",
       "  9.931866225088015e-05,\n",
       "  3.529000241542235e-05,\n",
       "  0.9985812902450562,\n",
       "  1.4274040950112976e-05,\n",
       "  9.844956366578117e-05],\n",
       " [0.00565571803599596,\n",
       "  4.340830855653621e-05,\n",
       "  0.0006609155680052936,\n",
       "  2.0367408069432713e-05,\n",
       "  0.00025575669133104384,\n",
       "  0.00021038153499830514,\n",
       "  0.9928873181343079,\n",
       "  6.222075899131596e-05,\n",
       "  0.00020386191317811608],\n",
       " [0.00116307835560292,\n",
       "  1.380417961627245e-05,\n",
       "  0.00012757365766447037,\n",
       "  1.8800523321260698e-05,\n",
       "  0.00010468284017406404,\n",
       "  7.106789416866377e-05,\n",
       "  0.9982545971870422,\n",
       "  2.6241361410939135e-05,\n",
       "  0.00022008280211593956],\n",
       " [0.0024473711382597685,\n",
       "  2.076497366942931e-05,\n",
       "  0.00020663307805079967,\n",
       "  1.672777761996258e-05,\n",
       "  0.00020939625392202288,\n",
       "  9.53081325860694e-05,\n",
       "  0.9967711567878723,\n",
       "  2.1792284314869903e-05,\n",
       "  0.00021089149231556803],\n",
       " [0.9996620416641235,\n",
       "  4.503090622165473e-06,\n",
       "  2.466750083840452e-05,\n",
       "  4.754130259243539e-06,\n",
       "  1.916771725518629e-05,\n",
       "  1.5687619452364743e-05,\n",
       "  0.0001947800483321771,\n",
       "  1.2295950909901876e-05,\n",
       "  6.211559957591817e-05],\n",
       " [0.0003770710318349302,\n",
       "  4.835308573092334e-05,\n",
       "  0.0001509844878455624,\n",
       "  2.6021349185612053e-05,\n",
       "  0.0005038278759457171,\n",
       "  4.0945957152871415e-05,\n",
       "  0.002410564571619034,\n",
       "  7.219582766992971e-05,\n",
       "  0.9963699579238892],\n",
       " [0.9995946288108826,\n",
       "  1.1904357961611822e-05,\n",
       "  2.2082518626120873e-05,\n",
       "  1.2704006621788722e-05,\n",
       "  3.333123822812922e-05,\n",
       "  1.867368155217264e-05,\n",
       "  0.00011463042028481141,\n",
       "  1.3042336831858847e-05,\n",
       "  0.00017897906946018338]]"
      ]
     },
     "execution_count": 13,
     "metadata": {},
     "output_type": "execute_result"
    }
   ],
   "source": [
    "probablities"
   ]
  },
  {
   "cell_type": "code",
   "execution_count": null,
   "id": "92301121",
   "metadata": {
    "papermill": {
     "duration": 0.007912,
     "end_time": "2023-02-06T15:23:25.313894",
     "exception": false,
     "start_time": "2023-02-06T15:23:25.305982",
     "status": "completed"
    },
    "tags": []
   },
   "outputs": [],
   "source": []
  },
  {
   "cell_type": "code",
   "execution_count": 14,
   "id": "e69ca168",
   "metadata": {
    "execution": {
     "iopub.execute_input": "2023-02-06T15:23:25.332551Z",
     "iopub.status.busy": "2023-02-06T15:23:25.331813Z",
     "iopub.status.idle": "2023-02-06T15:23:25.337458Z",
     "shell.execute_reply": "2023-02-06T15:23:25.336078Z"
    },
    "papermill": {
     "duration": 0.018023,
     "end_time": "2023-02-06T15:23:25.340209",
     "exception": false,
     "start_time": "2023-02-06T15:23:25.322186",
     "status": "completed"
    },
    "tags": []
   },
   "outputs": [
    {
     "name": "stdout",
     "output_type": "stream",
     "text": [
      "0 0\n",
      "1 0\n",
      "2 0\n",
      "3 0\n",
      "4 4\n",
      "5 4\n",
      "6 0\n",
      "7 0\n",
      "8 0\n",
      "9 0\n",
      "10 6\n",
      "11 6\n",
      "12 6\n",
      "13 6\n",
      "14 0\n",
      "15 8\n",
      "16 0\n"
     ]
    }
   ],
   "source": [
    "for idx, pred in enumerate(predictions):\n",
    "    print(idx,pred)"
   ]
  },
  {
   "cell_type": "code",
   "execution_count": 15,
   "id": "e74aba0d",
   "metadata": {
    "execution": {
     "iopub.execute_input": "2023-02-06T15:23:25.359998Z",
     "iopub.status.busy": "2023-02-06T15:23:25.359212Z",
     "iopub.status.idle": "2023-02-06T15:23:25.364681Z",
     "shell.execute_reply": "2023-02-06T15:23:25.363815Z"
    },
    "papermill": {
     "duration": 0.017654,
     "end_time": "2023-02-06T15:23:25.366974",
     "exception": false,
     "start_time": "2023-02-06T15:23:25.349320",
     "status": "completed"
    },
    "tags": []
   },
   "outputs": [],
   "source": [
    "for idx, pred in enumerate(predictions):\n",
    "    label = model.config.id2label[pred]\n",
    "    if label != \"O\":\n",
    "        results.append(\n",
    "            {\"entity\": label, \"score\": probablities[idx][pred], \"word\": tokens[idx]}\n",
    "        )"
   ]
  },
  {
   "cell_type": "code",
   "execution_count": 16,
   "id": "b2bacc91",
   "metadata": {
    "execution": {
     "iopub.execute_input": "2023-02-06T15:23:25.385967Z",
     "iopub.status.busy": "2023-02-06T15:23:25.385325Z",
     "iopub.status.idle": "2023-02-06T15:23:25.390330Z",
     "shell.execute_reply": "2023-02-06T15:23:25.389305Z"
    },
    "papermill": {
     "duration": 0.017201,
     "end_time": "2023-02-06T15:23:25.392725",
     "exception": false,
     "start_time": "2023-02-06T15:23:25.375524",
     "status": "completed"
    },
    "tags": []
   },
   "outputs": [
    {
     "name": "stdout",
     "output_type": "stream",
     "text": [
      "[{'entity': 'I-PER', 'score': 0.9970694184303284, 'word': 'Ned'}, {'entity': 'I-PER', 'score': 0.9978504180908203, 'word': '##a'}, {'entity': 'I-ORG', 'score': 0.9985812902450562, 'word': 'Hu'}, {'entity': 'I-ORG', 'score': 0.9928873181343079, 'word': '##gging'}, {'entity': 'I-ORG', 'score': 0.9982545971870422, 'word': '##F'}, {'entity': 'I-ORG', 'score': 0.9967711567878723, 'word': '##ace'}, {'entity': 'I-LOC', 'score': 0.9963699579238892, 'word': 'Lisbon'}]\n"
     ]
    }
   ],
   "source": [
    "print(results)"
   ]
  },
  {
   "cell_type": "code",
   "execution_count": 17,
   "id": "0c117244",
   "metadata": {
    "execution": {
     "iopub.execute_input": "2023-02-06T15:23:25.411123Z",
     "iopub.status.busy": "2023-02-06T15:23:25.410714Z",
     "iopub.status.idle": "2023-02-06T15:23:25.416500Z",
     "shell.execute_reply": "2023-02-06T15:23:25.415428Z"
    },
    "papermill": {
     "duration": 0.017685,
     "end_time": "2023-02-06T15:23:25.418885",
     "exception": false,
     "start_time": "2023-02-06T15:23:25.401200",
     "status": "completed"
    },
    "tags": []
   },
   "outputs": [],
   "source": [
    "inputs_with_offset=tokenizer(example,return_tensors=\"pt\",return_offsets_mapping=True)"
   ]
  },
  {
   "cell_type": "code",
   "execution_count": 18,
   "id": "16719d66",
   "metadata": {
    "execution": {
     "iopub.execute_input": "2023-02-06T15:23:25.438300Z",
     "iopub.status.busy": "2023-02-06T15:23:25.437883Z",
     "iopub.status.idle": "2023-02-06T15:23:25.444655Z",
     "shell.execute_reply": "2023-02-06T15:23:25.443915Z"
    },
    "papermill": {
     "duration": 0.018701,
     "end_time": "2023-02-06T15:23:25.446689",
     "exception": false,
     "start_time": "2023-02-06T15:23:25.427988",
     "status": "completed"
    },
    "tags": []
   },
   "outputs": [
    {
     "data": {
      "text/plain": [
       "tensor([[[ 0,  0],\n",
       "         [ 0,  2],\n",
       "         [ 3,  7],\n",
       "         [ 8, 10],\n",
       "         [11, 14],\n",
       "         [14, 15],\n",
       "         [16, 19],\n",
       "         [20, 21],\n",
       "         [22, 26],\n",
       "         [27, 29],\n",
       "         [30, 32],\n",
       "         [32, 37],\n",
       "         [37, 38],\n",
       "         [38, 41],\n",
       "         [42, 44],\n",
       "         [45, 51],\n",
       "         [ 0,  0]]])"
      ]
     },
     "execution_count": 18,
     "metadata": {},
     "output_type": "execute_result"
    }
   ],
   "source": [
    "inputs_with_offset[\"offset_mapping\"]"
   ]
  },
  {
   "cell_type": "code",
   "execution_count": 19,
   "id": "c27c5677",
   "metadata": {
    "execution": {
     "iopub.execute_input": "2023-02-06T15:23:25.465793Z",
     "iopub.status.busy": "2023-02-06T15:23:25.465033Z",
     "iopub.status.idle": "2023-02-06T15:23:25.471177Z",
     "shell.execute_reply": "2023-02-06T15:23:25.470148Z"
    },
    "papermill": {
     "duration": 0.017967,
     "end_time": "2023-02-06T15:23:25.473260",
     "exception": false,
     "start_time": "2023-02-06T15:23:25.455293",
     "status": "completed"
    },
    "tags": []
   },
   "outputs": [
    {
     "data": {
      "text/plain": [
       "'Ned'"
      ]
     },
     "execution_count": 19,
     "metadata": {},
     "output_type": "execute_result"
    }
   ],
   "source": [
    "example[11:14]"
   ]
  },
  {
   "cell_type": "code",
   "execution_count": 20,
   "id": "5d053a4d",
   "metadata": {
    "execution": {
     "iopub.execute_input": "2023-02-06T15:23:25.492942Z",
     "iopub.status.busy": "2023-02-06T15:23:25.492304Z",
     "iopub.status.idle": "2023-02-06T15:23:25.497377Z",
     "shell.execute_reply": "2023-02-06T15:23:25.496444Z"
    },
    "papermill": {
     "duration": 0.017607,
     "end_time": "2023-02-06T15:23:25.499556",
     "exception": false,
     "start_time": "2023-02-06T15:23:25.481949",
     "status": "completed"
    },
    "tags": []
   },
   "outputs": [],
   "source": [
    "results=[]\n",
    "inputs_with_offset=tokenizer(example,return_offsets_mapping=True)\n",
    "tokens=inputs_with_offset.tokens()\n",
    "offsets=inputs_with_offset[\"offset_mapping\"]\n"
   ]
  },
  {
   "cell_type": "code",
   "execution_count": 21,
   "id": "8ff769e0",
   "metadata": {
    "execution": {
     "iopub.execute_input": "2023-02-06T15:23:25.519082Z",
     "iopub.status.busy": "2023-02-06T15:23:25.517994Z",
     "iopub.status.idle": "2023-02-06T15:23:25.524588Z",
     "shell.execute_reply": "2023-02-06T15:23:25.523550Z"
    },
    "papermill": {
     "duration": 0.018714,
     "end_time": "2023-02-06T15:23:25.526862",
     "exception": false,
     "start_time": "2023-02-06T15:23:25.508148",
     "status": "completed"
    },
    "tags": []
   },
   "outputs": [],
   "source": [
    "for idx, pred in enumerate(predictions):\n",
    "    label = model.config.id2label[pred]\n",
    "    if label != \"O\":\n",
    "        start,end=offsets[idx]\n",
    "        \n",
    "        results.append(\n",
    "            {\"entity\": label,\n",
    "             \"score\": probablities[idx][pred],\n",
    "             \"word\": tokens[idx],\n",
    "            \"start\":start,\n",
    "            \"end\":end}\n",
    "        )"
   ]
  },
  {
   "cell_type": "code",
   "execution_count": 22,
   "id": "e5eb3a84",
   "metadata": {
    "execution": {
     "iopub.execute_input": "2023-02-06T15:23:25.545839Z",
     "iopub.status.busy": "2023-02-06T15:23:25.545459Z",
     "iopub.status.idle": "2023-02-06T15:23:25.553385Z",
     "shell.execute_reply": "2023-02-06T15:23:25.552238Z"
    },
    "papermill": {
     "duration": 0.019915,
     "end_time": "2023-02-06T15:23:25.555489",
     "exception": false,
     "start_time": "2023-02-06T15:23:25.535574",
     "status": "completed"
    },
    "tags": []
   },
   "outputs": [
    {
     "data": {
      "text/plain": [
       "[{'entity': 'I-PER',\n",
       "  'score': 0.9970694184303284,\n",
       "  'word': 'Ned',\n",
       "  'start': 11,\n",
       "  'end': 14},\n",
       " {'entity': 'I-PER',\n",
       "  'score': 0.9978504180908203,\n",
       "  'word': '##a',\n",
       "  'start': 14,\n",
       "  'end': 15},\n",
       " {'entity': 'I-ORG',\n",
       "  'score': 0.9985812902450562,\n",
       "  'word': 'Hu',\n",
       "  'start': 30,\n",
       "  'end': 32},\n",
       " {'entity': 'I-ORG',\n",
       "  'score': 0.9928873181343079,\n",
       "  'word': '##gging',\n",
       "  'start': 32,\n",
       "  'end': 37},\n",
       " {'entity': 'I-ORG',\n",
       "  'score': 0.9982545971870422,\n",
       "  'word': '##F',\n",
       "  'start': 37,\n",
       "  'end': 38},\n",
       " {'entity': 'I-ORG',\n",
       "  'score': 0.9967711567878723,\n",
       "  'word': '##ace',\n",
       "  'start': 38,\n",
       "  'end': 41},\n",
       " {'entity': 'I-LOC',\n",
       "  'score': 0.9963699579238892,\n",
       "  'word': 'Lisbon',\n",
       "  'start': 45,\n",
       "  'end': 51}]"
      ]
     },
     "execution_count": 22,
     "metadata": {},
     "output_type": "execute_result"
    }
   ],
   "source": [
    "results"
   ]
  },
  {
   "cell_type": "code",
   "execution_count": 23,
   "id": "6a21ba57",
   "metadata": {
    "execution": {
     "iopub.execute_input": "2023-02-06T15:23:25.575352Z",
     "iopub.status.busy": "2023-02-06T15:23:25.574765Z",
     "iopub.status.idle": "2023-02-06T15:23:25.579844Z",
     "shell.execute_reply": "2023-02-06T15:23:25.579134Z"
    },
    "papermill": {
     "duration": 0.017547,
     "end_time": "2023-02-06T15:23:25.581848",
     "exception": false,
     "start_time": "2023-02-06T15:23:25.564301",
     "status": "completed"
    },
    "tags": []
   },
   "outputs": [
    {
     "data": {
      "text/plain": [
       "'HuggingFace'"
      ]
     },
     "execution_count": 23,
     "metadata": {},
     "output_type": "execute_result"
    }
   ],
   "source": [
    "example[30:41]"
   ]
  },
  {
   "cell_type": "code",
   "execution_count": null,
   "id": "d56d96b2",
   "metadata": {
    "execution": {
     "iopub.execute_input": "2023-02-06T15:19:07.647304Z",
     "iopub.status.busy": "2023-02-06T15:19:07.646826Z"
    },
    "papermill": {
     "duration": null,
     "end_time": null,
     "exception": false,
     "start_time": "2023-02-06T15:23:25.590586",
     "status": "running"
    },
    "tags": []
   },
   "outputs": [],
   "source": [
    "import numpy as np\n",
    "\n",
    "results=[]\n",
    "inputs_with_offset=tokenizer(example,return_offsets_mapping=True)\n",
    "tokens=inputs_with_offset.tokens()\n",
    "offsets=inputs_with_offset[\"offset_mapping\"]\n",
    "\n",
    "idx=0\n",
    "while idx<len(predictions):\n",
    "    pred=predictions[idx]\n",
    "    lable=model.config.id2label[pred]\n",
    "    if label != \"O\":\n",
    "        #remove -B or _I\n",
    "        lable=lable[2:]\n",
    "        start,_=offsets[idx]\n",
    "        \n",
    "        all_acores=[]\n",
    "        while (\n",
    "        idx<len(predcitions) and model.config.id2label[predictions[idx]]==f\"I-{lable}\"\n",
    "        ):\n",
    "            \n",
    "            all_scores.append(probablities[idx][pred])\n",
    "            _,end=offsets[idx]\n",
    "            idx+=1\n",
    "            # teh score is the mean of all scores with the tokens in the same group\n",
    "            np.mean(all_scores).item()\n",
    "            word=exmapel[start:end]\n",
    "            resutls.append(\n",
    "            {\n",
    "             \"entity\": label,\n",
    "             \"score\": probablities[idx][pred],\n",
    "             \"word\": tokens[idx],\n",
    "             \"start\":start,\n",
    "             \"end\":end}\n",
    "            )\n",
    "            \n",
    "            idx+=1\n",
    "            \n",
    "        \n",
    "        \n",
    "        \n",
    "        \n"
   ]
  },
  {
   "cell_type": "code",
   "execution_count": null,
   "id": "898d4c7a",
   "metadata": {
    "papermill": {
     "duration": null,
     "end_time": null,
     "exception": null,
     "start_time": null,
     "status": "pending"
    },
    "tags": []
   },
   "outputs": [],
   "source": []
  },
  {
   "cell_type": "code",
   "execution_count": null,
   "id": "8da6941a",
   "metadata": {
    "papermill": {
     "duration": null,
     "end_time": null,
     "exception": null,
     "start_time": null,
     "status": "pending"
    },
    "tags": []
   },
   "outputs": [],
   "source": []
  },
  {
   "cell_type": "code",
   "execution_count": null,
   "id": "0faf7906",
   "metadata": {
    "papermill": {
     "duration": null,
     "end_time": null,
     "exception": null,
     "start_time": null,
     "status": "pending"
    },
    "tags": []
   },
   "outputs": [],
   "source": []
  },
  {
   "cell_type": "code",
   "execution_count": null,
   "id": "e14ed4a1",
   "metadata": {
    "papermill": {
     "duration": null,
     "end_time": null,
     "exception": null,
     "start_time": null,
     "status": "pending"
    },
    "tags": []
   },
   "outputs": [],
   "source": []
  },
  {
   "cell_type": "code",
   "execution_count": null,
   "id": "f5757521",
   "metadata": {
    "papermill": {
     "duration": null,
     "end_time": null,
     "exception": null,
     "start_time": null,
     "status": "pending"
    },
    "tags": []
   },
   "outputs": [],
   "source": []
  }
 ],
 "metadata": {
  "kernelspec": {
   "display_name": "Python 3",
   "language": "python",
   "name": "python3"
  },
  "language_info": {
   "codemirror_mode": {
    "name": "ipython",
    "version": 3
   },
   "file_extension": ".py",
   "mimetype": "text/x-python",
   "name": "python",
   "nbconvert_exporter": "python",
   "pygments_lexer": "ipython3",
   "version": "3.6.4"
  },
  "papermill": {
   "default_parameters": {},
   "duration": null,
   "end_time": null,
   "environment_variables": {},
   "exception": null,
   "input_path": "__notebook__.ipynb",
   "output_path": "__notebook__.ipynb",
   "parameters": {},
   "start_time": "2023-02-06T15:21:01.617490",
   "version": "2.3.4"
  }
 },
 "nbformat": 4,
 "nbformat_minor": 5
}